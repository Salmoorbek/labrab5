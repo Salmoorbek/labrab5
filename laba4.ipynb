{
 "cells": [
  {
   "cell_type": "code",
   "execution_count": null,
   "outputs": [],
   "source": [
    "# Импорт библиотек и загрузка данных\n",
    "\n",
    "import numpy as np\n",
    "import pandas as pd\n",
    "from sklearn.datasets import load_diabetes, load_linnerud\n",
    "from sklearn.model_selection import train_test_split, GridSearchCV\n",
    "from sklearn.preprocessing import StandardScaler\n",
    "from sklearn.neighbors import KNeighborsRegressor\n",
    "from sklearn.linear_model import LinearRegression, Ridge, Lasso, LogisticRegression\n",
    "from sklearn.metrics import mean_squared_error, r2_score, accuracy_score\n"
   ],
   "metadata": {
    "collapsed": false
   },
   "id": "6cbc7170c6a83c95"
  },
  {
   "cell_type": "code",
   "execution_count": 17,
   "outputs": [
    {
     "name": "stdout",
     "output_type": "stream",
     "text": [
      "Diabetes dataset:\n",
      "[[ 0.03807591  0.05068012  0.06169621  0.02187239 -0.0442235  -0.03482076\n",
      "  -0.04340085 -0.00259226  0.01990749 -0.01764613]\n",
      " [-0.00188202 -0.04464164 -0.05147406 -0.02632753 -0.00844872 -0.01916334\n",
      "   0.07441156 -0.03949338 -0.06833155 -0.09220405]\n",
      " [ 0.08529891  0.05068012  0.04445121 -0.00567042 -0.04559945 -0.03419447\n",
      "  -0.03235593 -0.00259226  0.00286131 -0.02593034]\n",
      " [-0.08906294 -0.04464164 -0.01159501 -0.03665608  0.01219057  0.02499059\n",
      "  -0.03603757  0.03430886  0.02268774 -0.00936191]\n",
      " [ 0.00538306 -0.04464164 -0.03638469  0.02187239  0.00393485  0.01559614\n",
      "   0.00814208 -0.00259226 -0.03198764 -0.04664087]]\n",
      "Linnerud dataset:\n",
      "[[  5. 162.  60.]\n",
      " [  2. 110.  60.]\n",
      " [ 12. 101. 101.]\n",
      " [ 12. 105.  37.]\n",
      " [ 13. 155.  58.]]\n"
     ]
    }
   ],
   "source": [
    "# Загрузка данных\n",
    "diabetes = load_diabetes()\n",
    "linnerud = load_linnerud()\n",
    "\n",
    "print(\"Diabetes dataset:\")\n",
    "print(diabetes.data[:5])\n",
    "print(\"Linnerud dataset:\")\n",
    "print(linnerud.data[:5])\n"
   ],
   "metadata": {
    "collapsed": false,
    "ExecuteTime": {
     "end_time": "2023-11-08T09:49:07.408349Z",
     "start_time": "2023-11-08T09:49:07.316191Z"
    }
   },
   "id": "56fff6d2b2d71169"
  },
  {
   "cell_type": "code",
   "execution_count": 21,
   "outputs": [],
   "source": [
    "# Разделение данных на обучающие и тестовые наборы, масштабирование\n",
    "\n",
    "X_diabetes_train, X_diabetes_test, y_diabetes_train, y_diabetes_test = train_test_split(\n",
    "    diabetes.data, diabetes.target, test_size=0.2, random_state=42\n",
    ")\n",
    "\n",
    "X_linnerud_train, X_linnerud_test, y_linnerud_train, y_linnerud_test = train_test_split(\n",
    "    linnerud.data, linnerud.target, test_size=0.2, random_state=42\n",
    ")\n",
    "\n",
    "scaler = StandardScaler()\n",
    "X_diabetes_train_scaled = scaler.fit_transform(X_diabetes_train)\n",
    "X_diabetes_test_scaled = scaler.transform(X_diabetes_test)\n",
    "\n",
    "X_linnerud_train_scaled = scaler.fit_transform(X_linnerud_train)\n",
    "X_linnerud_test_scaled = scaler.transform(X_linnerud_test)\n"
   ],
   "metadata": {
    "collapsed": false,
    "ExecuteTime": {
     "end_time": "2023-11-08T09:49:36.630480Z",
     "start_time": "2023-11-08T09:49:36.616141Z"
    }
   },
   "id": "db56e920e5569b4f"
  },
  {
   "cell_type": "code",
   "execution_count": 19,
   "outputs": [
    {
     "name": "stdout",
     "output_type": "stream",
     "text": [
      "\n",
      "KNeighborsRegressor:\n",
      "Diabetes dataset:\n",
      "Mean Squared Error: 3047.449887640449\n",
      "R-squared: 0.42480887066066253\n",
      "Linnerud dataset:\n",
      "Mean Squared Error: 137.80000000000004\n",
      "R-squared: -0.281915632667826\n",
      "\n",
      "LinearRegression:\n",
      "Diabetes dataset:\n",
      "Mean Squared Error: 2900.1936284934836\n",
      "R-squared: 0.45260276297191904\n",
      "Linnerud dataset:\n",
      "Mean Squared Error: 239.15367187682742\n",
      "R-squared: -1.350411554208635\n",
      "\n",
      "Ridge:\n",
      "Diabetes dataset:\n",
      "Mean Squared Error: 2892.014565750172\n",
      "R-squared: 0.45414652070698236\n",
      "Linnerud dataset:\n",
      "Mean Squared Error: 200.34272319577903\n",
      "R-squared: -0.890152547505442\n",
      "\n",
      "Lasso:\n",
      "Diabetes dataset:\n",
      "Mean Squared Error: 2824.5680940499587\n",
      "R-squared: 0.4668767094410248\n",
      "Linnerud dataset:\n",
      "Mean Squared Error: 184.28863303030985\n",
      "R-squared: -0.3554205381596633\n"
     ]
    }
   ],
   "source": [
    "# Построение моделей и оценка результатов\n",
    "\n",
    "models = {\n",
    "    \"KNeighborsRegressor\": KNeighborsRegressor(),\n",
    "    \"LinearRegression\": LinearRegression(),\n",
    "    \"Ridge\": Ridge(),\n",
    "    \"Lasso\": Lasso(),\n",
    "}\n",
    "\n",
    "for model_name, model in models.items():\n",
    "    print(f\"\\n{model_name}:\")\n",
    "    \n",
    "    model.fit(X_diabetes_train_scaled, y_diabetes_train)\n",
    "    y_diabetes_pred = model.predict(X_diabetes_test_scaled)\n",
    "    \n",
    "    print(\"Diabetes dataset:\")\n",
    "    print(f\"Mean Squared Error: {mean_squared_error(y_diabetes_test, y_diabetes_pred)}\")\n",
    "    print(f\"R-squared: {r2_score(y_diabetes_test, y_diabetes_pred)}\")\n",
    "\n",
    "    model.fit(X_linnerud_train_scaled, y_linnerud_train)\n",
    "    y_linnerud_pred = model.predict(X_linnerud_test_scaled)\n",
    "    \n",
    "    print(\"Linnerud dataset:\")\n",
    "    print(f\"Mean Squared Error: {mean_squared_error(y_linnerud_test, y_linnerud_pred)}\")\n",
    "    print(f\"R-squared: {r2_score(y_linnerud_test, y_linnerud_pred)}\")\n"
   ],
   "metadata": {
    "collapsed": false,
    "ExecuteTime": {
     "end_time": "2023-11-08T09:49:23.703622Z",
     "start_time": "2023-11-08T09:49:23.633046Z"
    }
   },
   "id": "dc45e5589330678c"
  },
  {
   "cell_type": "code",
   "execution_count": 22,
   "outputs": [
    {
     "name": "stdout",
     "output_type": "stream",
     "text": [
      "\n",
      "Best Parameters for Linear Regression:\n",
      "{'fit_intercept': True}\n"
     ]
    }
   ],
   "source": [
    "# Подбор параметров для Linear Regression с использованием GridSearchCV\n",
    "\n",
    "param_grid = {\"fit_intercept\": [True, False]}\n",
    "grid_search = GridSearchCV(LinearRegression(), param_grid, cv=5)\n",
    "grid_search.fit(X_diabetes_train_scaled, y_diabetes_train)\n",
    "\n",
    "best_params = grid_search.best_params_\n",
    "print(\"\\nBest Parameters for Linear Regression:\")\n",
    "print(best_params)\n"
   ],
   "metadata": {
    "collapsed": false,
    "ExecuteTime": {
     "end_time": "2023-11-08T09:50:32.846364Z",
     "start_time": "2023-11-08T09:50:32.807741Z"
    }
   },
   "id": "55e07223566901c5"
  },
  {
   "cell_type": "code",
   "execution_count": null,
   "outputs": [],
   "source": [
    "# 1. Загрузка данных:\n",
    "#     Успешно загрузили два набора данных: Diabetes и Linnerud.\n",
    "# 2. Подготовка данных:\n",
    "#     Разделили данные на обучающие и тестовые наборы.\n",
    "#     Произвели масштабирование признаков для обеспечения более стабильного обучения моделей.\n",
    "# 3. Модели регрессии:\n",
    "#     Использовали несколько моделей регрессии, таких как KNeighborsRegressor, LinearRegression, Ridge и          Lasso.\n",
    "# 4. Оценка моделей:\n",
    "#     Оценка производилась с использованием метрик MSE (Mean Squared Error) и R-squared.\n",
    "#     Результаты оценок предоставлены для обоих наборов данных.\n",
    "# 5. Подбор параметров:\n",
    "#     Применили GridSearchCV для настройки параметров модели LinearRegression.\n",
    "# 6. Выводы:\n",
    "#     Каждая модель реагирует по-разному на различные наборы данных.\n",
    "#     Результаты оценки позволяют сделать выводы о том, какая модель лучше всего соответствует конкретным         данным.\n",
    "#     Подробный анализ параметров может помочь оптимизировать производительность моделей.\n",
    "# 7. Дальнейшие шаги:\n",
    "#     Можно рассмотреть более сложные методы настройки параметров и сравнения моделей.\n",
    "#     Расширить анализ на большее количество моделей и параметров для более полного понимания."
   ],
   "metadata": {
    "collapsed": false
   },
   "id": "c30385557f469fb6"
  }
 ],
 "metadata": {
  "kernelspec": {
   "display_name": "Python 3",
   "language": "python",
   "name": "python3"
  },
  "language_info": {
   "codemirror_mode": {
    "name": "ipython",
    "version": 2
   },
   "file_extension": ".py",
   "mimetype": "text/x-python",
   "name": "python",
   "nbconvert_exporter": "python",
   "pygments_lexer": "ipython2",
   "version": "2.7.6"
  }
 },
 "nbformat": 4,
 "nbformat_minor": 5
}
